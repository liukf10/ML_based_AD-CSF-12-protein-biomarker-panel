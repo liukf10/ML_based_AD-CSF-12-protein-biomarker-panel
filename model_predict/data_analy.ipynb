{
 "cells": [
  {
   "cell_type": "code",
   "id": "initial_id",
   "metadata": {
    "collapsed": true,
    "ExecuteTime": {
     "end_time": "2024-08-25T16:37:30.568292Z",
     "start_time": "2024-08-25T16:37:30.554292Z"
    }
   },
   "source": [
    "import pandas as pd\n",
    "import numpy as np\n",
    "from sklearn.linear_model import LogisticRegression as LR\n",
    "from sklearn.impute import KNNImputer\n",
    "from sklearn.preprocessing import StandardScaler\n",
    "from sklearn.model_selection import train_test_split\n",
    "from sklearn import metrics\n",
    "from sklearn.svm import SVC"
   ],
   "outputs": [],
   "execution_count": 55
  },
  {
   "metadata": {},
   "cell_type": "markdown",
   "source": "",
   "id": "f0880505ca91138f"
  },
  {
   "metadata": {
    "ExecuteTime": {
     "end_time": "2024-08-25T16:38:22.057199Z",
     "start_time": "2024-08-25T16:38:21.982199Z"
    }
   },
   "cell_type": "code",
   "source": [
    "#297数据集因一个样本有空值删掉\n",
    "label = \"label_one\"\n",
    "data_arc = pd.read_excel(r'.\\data\\three_protein.xlsx',sheet_name='artical_raw')\n",
    "data_our = pd.read_excel(r'.\\data\\three_protein.xlsx', sheet_name='our')\n",
    "X= data_arc.iloc[:,:3]\n",
    "y= data_arc.iloc[:,3]\n",
    "X_train, X_test, y_train, y_test = train_test_split(\n",
    "    X, y, test_size=0.3, random_state=42)\n",
    "lrl2 = LR(penalty=\"l2\",solver=\"liblinear\",C=1,max_iter=1000)\n",
    "lrl2 = lrl2.fit(X_train,y_train)\n",
    "data_our = data_our.iloc[:, 4:]\n",
    "data_our = data_our[data_our[label].isin((0, 1))]\n",
    "X_our = data_our.iloc[:, 1:4]\n",
    "y_our = data_our[label]\n",
    "ss = StandardScaler()\n",
    "X_test_our_std = ss.fit_transform(X_our)\n",
    "fpr, tpr, thresholds = metrics.roc_curve(y_our, lrl2.predict(X_test_our_std))\n",
    "metrics.auc(fpr, tpr)"
   ],
   "id": "dd8fee6e294dc3b5",
   "outputs": [
    {
     "data": {
      "text/plain": [
       "0.9166666666666667"
      ]
     },
     "execution_count": 58,
     "metadata": {},
     "output_type": "execute_result"
    }
   ],
   "execution_count": 58
  },
  {
   "metadata": {},
   "cell_type": "code",
   "outputs": [],
   "execution_count": null,
   "source": "",
   "id": "8c9bfce77c9af77b"
  }
 ],
 "metadata": {
  "kernelspec": {
   "display_name": "Python 3",
   "language": "python",
   "name": "python3"
  },
  "language_info": {
   "codemirror_mode": {
    "name": "ipython",
    "version": 2
   },
   "file_extension": ".py",
   "mimetype": "text/x-python",
   "name": "python",
   "nbconvert_exporter": "python",
   "pygments_lexer": "ipython2",
   "version": "2.7.6"
  }
 },
 "nbformat": 4,
 "nbformat_minor": 5
}
